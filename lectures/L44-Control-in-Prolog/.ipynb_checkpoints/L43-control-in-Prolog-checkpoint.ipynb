{
 "cells": [
  {
   "cell_type": "markdown",
   "metadata": {
    "slideshow": {
     "slide_type": "slide"
    }
   },
   "source": [
    "<center>\n",
    "\n",
    "<h1> CS3100-2021 : Control in Prolog </h1>\n",
    "<h2> Lecture 44 & 45 - Nov 3 and Nov 5, 2021 </h2>\n",
    "</center>"
   ]
  },
  {
   "cell_type": "markdown",
   "metadata": {
    "slideshow": {
     "slide_type": "slide"
    }
   },
   "source": [
    "## Review\n",
    "\n",
    "### Previously\n",
    "\n",
    "* Programming with Lists, Arithmetic, Backtracking, Choice Points\n",
    "\n",
    "### This lecture\n",
    "\n",
    "* Control in Prolog\n",
    "  + Rule order and Goal order\n",
    "  + An abstract interpreter for logic programs\n",
    "    * Unification, Substitution"
   ]
  },
  {
   "cell_type": "markdown",
   "metadata": {
    "slideshow": {
     "slide_type": "slide"
    }
   },
   "source": [
    "## Algorithm = Logic + Control\n",
    "\n",
    "* Logic: facts, rules and queries\n",
    "* Control: how prolog chooses the rules and goals, among several available options.\n",
    "\n",
    "There are two main control decisions: **Rule Order & Goal Order.**"
   ]
  },
  {
   "cell_type": "markdown",
   "metadata": {
    "slideshow": {
     "slide_type": "slide"
    }
   },
   "source": [
    "## Algorithm = Logic + Control\n",
    "\n",
    "* **Rule order**: Given a program with a collection of facts and rules, in which order do you choose to pick rule to unify.\n",
    "  + SWI-Prolog chooses the **first** applicable rule in the order in which they appear in the program.\n",
    "* **Goal order**: Given a set of goals to resolve, which goal do you choose\n",
    "  + SWI-Prolog: chooses the **left-most** subgoal. \n",
    "  \n",
    "Rule order and goal order influences program behaviour. "
   ]
  },
  {
   "cell_type": "markdown",
   "metadata": {
    "slideshow": {
     "slide_type": "slide"
    }
   },
   "source": [
    "## Subsequence in Prolog\n",
    "```\n",
    "<-------X-------->\n",
    "+-------------------------------+\n",
    "|      |    S    |              |  \n",
    "+-------------------------------+\n",
    "<--------------Z---------------->\n",
    "```\n",
    "\n",
    "We can specify `S` this is seemingly equivalent ways.\n",
    "\n",
    "* prefix X of Z and suffix S of X.\n",
    "* suffix S of X and prefix X of Z."
   ]
  },
  {
   "cell_type": "markdown",
   "metadata": {
    "slideshow": {
     "slide_type": "slide"
    }
   },
   "source": [
    "## Subsequence in Prolog\n",
    "\n",
    "The corresponding prolog queries are:"
   ]
  },
  {
   "cell_type": "code",
   "execution_count": 1,
   "metadata": {},
   "outputs": [
    {
     "name": "stdout",
     "output_type": "stream",
     "text": [
      "Added 4 clauses(s)."
     ]
    }
   ],
   "source": [
    "append([],Q,Q).\n",
    "append([H | P], Q, [H | R]) :- append(P, Q, R).\n",
    "prefix(X,Z) :- append(X,Y,Z).\n",
    "suffix(Y,Z) :- append(X,Y,Z)."
   ]
  },
  {
   "cell_type": "markdown",
   "metadata": {
    "slideshow": {
     "slide_type": "slide"
    }
   },
   "source": [
    "## Subsequence in Prolog\n",
    "\n",
    "They usually produce the same result:"
   ]
  },
  {
   "cell_type": "code",
   "execution_count": null,
   "metadata": {},
   "outputs": [],
   "source": [
    "?- prefix([a,b,c],[a,b,c,d]), suffix(S,[a,b,c])."
   ]
  },
  {
   "cell_type": "code",
   "execution_count": null,
   "metadata": {},
   "outputs": [],
   "source": [
    "?- suffix(S,[a,b,c]), prefix([a,b,c],[a,b,c,d])."
   ]
  },
  {
   "cell_type": "markdown",
   "metadata": {
    "slideshow": {
     "slide_type": "slide"
    }
   },
   "source": [
    "## Subsequence in Prolog\n",
    "\n",
    "Their answers however differ in other cases:"
   ]
  },
  {
   "cell_type": "code",
   "execution_count": null,
   "metadata": {},
   "outputs": [],
   "source": [
    "?- prefix(X,[b]), suffix([a],X)."
   ]
  },
  {
   "cell_type": "code",
   "execution_count": null,
   "metadata": {},
   "outputs": [],
   "source": [
    "?- suffix([a],X), prefix(X,[b])."
   ]
  },
  {
   "cell_type": "markdown",
   "metadata": {
    "slideshow": {
     "slide_type": "slide"
    }
   },
   "source": [
    "## Goal order changes solutions\n",
    "\n",
    "Consider the query:"
   ]
  },
  {
   "cell_type": "code",
   "execution_count": 2,
   "metadata": {},
   "outputs": [
    {
     "name": "stdout",
     "output_type": "stream",
     "text": [
      "L = [ a ] ."
     ]
    }
   ],
   "source": [
    "?- suffix([a],L), prefix(L,[a,b,c]) {1}."
   ]
  },
  {
   "cell_type": "code",
   "execution_count": 4,
   "metadata": {},
   "outputs": [
    {
     "name": "stdout",
     "output_type": "stream",
     "text": [
      "L = [ a ] ;\n",
      "L = [ _1612, a ] ;\n",
      "L = [ _1612, _1624, a ] ;\n",
      "L = [ _1612, _1624, _1636, a ] ;\n",
      "L = [ _1612, _1624, _1636, _1648, a ] ;\n",
      "L = [ _1612, _1624, _1636, _1648, _1660, a ] ;\n",
      "L = [ _1612, _1624, _1636, _1648, _1660, _1672, a ] ;\n",
      "L = [ _1612, _1624, _1636, _1648, _1660, _1672, _1684, a ] ;\n",
      "L = [ _1612, _1624, _1636, _1648, _1660, _1672, _1684, _1696, a ] ;\n",
      "L = [ _1612, _1624, _1636, _1648, _1660, _1672, _1684, _1696, _1708, a ] ."
     ]
    }
   ],
   "source": [
    "?- suffix([a],L), prefix(L,[a,b,c]) {2}."
   ]
  },
  {
   "cell_type": "markdown",
   "metadata": {},
   "source": [
    "**Exercise**: Trace by hand."
   ]
  },
  {
   "cell_type": "markdown",
   "metadata": {
    "slideshow": {
     "slide_type": "slide"
    }
   },
   "source": [
    "## Goal order changes solutions\n",
    "\n",
    "Consider the query:"
   ]
  },
  {
   "cell_type": "code",
   "execution_count": 5,
   "metadata": {},
   "outputs": [
    {
     "name": "stdout",
     "output_type": "stream",
     "text": [
      "L = [ a ] ."
     ]
    }
   ],
   "source": [
    "?- prefix(L,[a,b,c]), suffix([a],L)."
   ]
  },
  {
   "cell_type": "markdown",
   "metadata": {},
   "source": [
    "has precisely one answer.\n",
    "\n",
    "**Exercise**: Trace by hand."
   ]
  },
  {
   "cell_type": "markdown",
   "metadata": {
    "slideshow": {
     "slide_type": "slide"
    }
   },
   "source": [
    "## Rule order affects the search for solutions\n",
    "\n",
    "Consider the definition `appen2` which reorders the rules from `append`."
   ]
  },
  {
   "cell_type": "code",
   "execution_count": 6,
   "metadata": {
    "scrolled": true
   },
   "outputs": [
    {
     "name": "stdout",
     "output_type": "stream",
     "text": [
      "Added 2 clauses(s)."
     ]
    }
   ],
   "source": [
    "appen2([H | P], Q, [H | R]) :- appen2(P, Q, R).\n",
    "appen2([],Q,Q)."
   ]
  },
  {
   "cell_type": "markdown",
   "metadata": {
    "slideshow": {
     "slide_type": "slide"
    }
   },
   "source": [
    "## Rule order affects the search for solutions\n",
    "\n",
    "Consider the query:"
   ]
  },
  {
   "cell_type": "code",
   "execution_count": 7,
   "metadata": {
    "scrolled": true
   },
   "outputs": [
    {
     "name": "stdout",
     "output_type": "stream",
     "text": [
      "X = [  ], Z = [ c ] ;\n",
      "X = [ _1626 ], Z = [ _1626, c ] ;\n",
      "X = [ _1626, _1638 ], Z = [ _1626, _1638, c ] ;\n",
      "X = [ _1626, _1638, _1650 ], Z = [ _1626, _1638, _1650, c ] ;\n",
      "X = [ _1626, _1638, _1650, _1662 ], Z = [ _1626, _1638, _1650, _1662, c ] ."
     ]
    }
   ],
   "source": [
    "?- append(X,[c],Z) {5}."
   ]
  },
  {
   "cell_type": "code",
   "execution_count": null,
   "metadata": {},
   "outputs": [],
   "source": [
    "?- appen2(X,[c],Z) {1}."
   ]
  },
  {
   "cell_type": "markdown",
   "metadata": {},
   "source": [
    "goes down an infinite search path.\n",
    "\n",
    "**Exercise**: Trace by hand."
   ]
  },
  {
   "cell_type": "markdown",
   "metadata": {
    "slideshow": {
     "slide_type": "slide"
    }
   },
   "source": [
    "## Occurs check problem\n",
    "\n",
    "Consider the query"
   ]
  },
  {
   "cell_type": "code",
   "execution_count": null,
   "metadata": {},
   "outputs": [],
   "source": [
    "?- append([],E,[a,b|E])."
   ]
  },
  {
   "cell_type": "markdown",
   "metadata": {},
   "source": [
    "goes down an infinite search path. (Must restart kernel).\n",
    "\n",
    "**Exercise:** Trace by hand to verify why."
   ]
  },
  {
   "cell_type": "markdown",
   "metadata": {
    "slideshow": {
     "slide_type": "slide"
    }
   },
   "source": [
    "## Occurs check problem\n",
    "\n",
    "Consider the query\n",
    "\n",
    "```\n",
    "?- append([],E,[a,b | E]).\n",
    "```\n",
    "\n",
    "* In order to unify this with, `append([],Y,Y)`, we will unify `E = [a,b | E]`, whose solution is `E = [a,b,a,b,a,b,...]`.\n",
    "* In the name of efficiency, most prolog implementations do not check whether `E` appears on the RHS term.\n",
    "  + infinite loop on unification.\n",
    "  + The efficacy of this optimization in 2020 is dubious.\n",
    "* Some versions of prolog creates cyclic terms (like OCaml recursive values), but most don't. "
   ]
  },
  {
   "cell_type": "markdown",
   "metadata": {
    "slideshow": {
     "slide_type": "slide"
    }
   },
   "source": [
    "## Occurs check problem\n",
    "\n",
    "You can explicitly turn on occurs check in SWI Prolog. "
   ]
  },
  {
   "cell_type": "code",
   "execution_count": 8,
   "metadata": {},
   "outputs": [
    {
     "name": "stdout",
     "output_type": "stream",
     "text": [
      "true."
     ]
    }
   ],
   "source": [
    "?- set_prolog_flag(occurs_check,true)."
   ]
  },
  {
   "cell_type": "code",
   "execution_count": 9,
   "metadata": {},
   "outputs": [
    {
     "name": "stdout",
     "output_type": "stream",
     "text": [
      "false."
     ]
    }
   ],
   "source": [
    "?- append([],E,[a,b | E])."
   ]
  },
  {
   "cell_type": "markdown",
   "metadata": {
    "slideshow": {
     "slide_type": "slide"
    }
   },
   "source": [
    "## Occurs check problem\n",
    "\n",
    "You can explicitly turn occurs check in SWI Prolog to an **error**."
   ]
  },
  {
   "cell_type": "code",
   "execution_count": 10,
   "metadata": {},
   "outputs": [
    {
     "name": "stdout",
     "output_type": "stream",
     "text": [
      "true."
     ]
    }
   ],
   "source": [
    "?- set_prolog_flag(occurs_check,error)."
   ]
  },
  {
   "cell_type": "code",
   "execution_count": 11,
   "metadata": {},
   "outputs": [
    {
     "ename": "",
     "evalue": "",
     "output_type": "error",
     "traceback": [
      "ERROR: Caused by: '  append([],E,[a,b | E])'. Returned: 'error(occurs_check(_1654, [Atom('282629'), Atom('222853')]), context(/(append, 3), _1674))'."
     ]
    }
   ],
   "source": [
    "?- append([],E,[a,b | E])."
   ]
  },
  {
   "cell_type": "markdown",
   "metadata": {
    "slideshow": {
     "slide_type": "slide"
    }
   },
   "source": [
    "## Abstract interpreter for logic programs\n",
    "\n",
    "We can precisely define the influence of rule and goal orders by describing an **abstract interpreter** for logic programs.\n",
    "\n",
    "First, we will start off with some definitions of ideas that we have informally seen earlier. "
   ]
  },
  {
   "cell_type": "markdown",
   "metadata": {
    "slideshow": {
     "slide_type": "slide"
    }
   },
   "source": [
    "## Substitution\n",
    "\n",
    "A substitution is a finite set of pairs of terms $\\{X_1/t_1, \\ldots, X_n/t_n\\}$ where each $t_i$ is a term and each $X_i$ is a variable such that $X_i \\neq t_i$ and $X_i \\neq X_j$ if $i \\neq j$.\n",
    "\n",
    "The empty substitution is denoted by $\\epsilon$.\n",
    "\n",
    "For example, $\\sigma = \\{X/[1,2,3], Y/Z, Z/f(a,b)\\}$ is valid substitution."
   ]
  },
  {
   "cell_type": "markdown",
   "metadata": {
    "slideshow": {
     "slide_type": "slide"
    }
   },
   "source": [
    "## Quiz\n",
    "\n",
    "Is this a valid substitution? \n",
    "\n",
    "\\\\[\n",
    "\\{X/Y,Y/X,Z/Z,A/a1,A/a2,m/n\\}\n",
    "\\\\]"
   ]
  },
  {
   "cell_type": "markdown",
   "metadata": {
    "slideshow": {
     "slide_type": "slide"
    }
   },
   "source": [
    "## Quiz\n",
    "\n",
    "Is this a valid substitution? \n",
    "\n",
    "\\\\[\n",
    "\\sigma = \\{X/Y,Y/X,Z/Z,A/a1,A/a2,m/n\\}\n",
    "\\\\]\n",
    "\n",
    "No. \n",
    "\n",
    "* $Z/Z$ should not be in $\\sigma$.\n",
    "* Variable $A$ has two substitutions $A/a1$ and $A/a2$, which is incorrect.\n",
    "* $m/n$ is not a valid substitution; $m$ should be a variable.\n",
    "* $X/Y,Y/X \\in \\sigma$ is fine. "
   ]
  },
  {
   "cell_type": "markdown",
   "metadata": {
    "slideshow": {
     "slide_type": "slide"
    }
   },
   "source": [
    "## Application of substitution\n",
    "\n",
    "The application of substitution $\\sigma$ to a variable $X$, written as $X\\sigma$ is defined \n",
    "\n",
    "\\\\[\n",
    "X\\sigma = \n",
    "\\begin{cases}\n",
    "t \\text{ if } X/t \\in \\sigma \\\\\n",
    "X \\text{ otherwise}\n",
    "\\end{cases}\n",
    "\\\\]"
   ]
  }
 ],
 "metadata": {
  "celltoolbar": "Slideshow",
  "kernelspec": {
   "display_name": "SWI-Prolog",
   "language": "",
   "name": "jswipl"
  },
  "language_info": {
   "mimetype": "text/plain",
   "name": "swipl"
  }
 },
 "nbformat": 4,
 "nbformat_minor": 2
}
