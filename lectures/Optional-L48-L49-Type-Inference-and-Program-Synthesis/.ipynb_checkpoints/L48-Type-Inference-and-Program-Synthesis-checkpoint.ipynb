{
 "cells": [
  {
   "cell_type": "markdown",
   "metadata": {
    "slideshow": {
     "slide_type": "slide"
    }
   },
   "source": [
    "<center>\n",
    "\n",
    "<h1> Type Inference and Program Synthesis </h1>\n",
    "<h2> CS3100 : Lecture 48, Thu, 8am </h2>\n",
    "</center>"
   ]
  },
  {
   "cell_type": "markdown",
   "metadata": {
    "slideshow": {
     "slide_type": "slide"
    }
   },
   "source": [
    "## Review\n",
    "\n",
    "### Previously\n",
    "\n",
    "* Cuts and Negation\n",
    "\n",
    "### This lecture\n",
    "\n",
    "* Applications of Prolog\n",
    "  + Type Inference for STLC\n",
    "  + Program synthesis."
   ]
  },
  {
   "cell_type": "markdown",
   "metadata": {
    "slideshow": {
     "slide_type": "slide"
    }
   },
   "source": [
    "## Type Inference for STLC\n",
    "\n",
    "Let us develop a type inference procedure for Simply Typed Lambda Calculus (STLC).\n",
    "\n",
    "Recall the tems in STLC:\n",
    "\n",
    "\\\\[\n",
    "\\begin{array}{rcll}\n",
    "M,N & ≔ & x & \\text{(variable)} \\\\\n",
    "    & \\mid & M~N & \\text{(application)} \\\\\n",
    "    & \\mid & \\lambda x:A.M & \\text{(abstraction)}\\\\\n",
    "    & \\mid & \\pair{M}{N} & \\text{(pair)}\\\\\n",
    "    & \\mid & \\fst{M} & \\text{(project-1)}\\\\\n",
    "    & \\mid & \\snd{M} & \\text{(project-2)} \\\\\n",
    "    & \\mid & \\unitv & \\text{(unit)}\n",
    "\\end{array}\n",
    "\\\\]"
   ]
  },
  {
   "cell_type": "markdown",
   "metadata": {
    "slideshow": {
     "slide_type": "slide"
    }
   },
   "source": [
    "## STLC Typing Rules\n",
    "\n",
    "\\\\[\n",
    "\\begin{array}{cc}\n",
    "\\inferrule{}{\\Gamma,x:A \\vdash x:A}{(var)} &\n",
    "\\inferrule{}{\\Gamma \\vdash \\unitv : 1}{(unit)} \\\\ \\\\\n",
    "\\inferrule{\\Gamma \\vdash M : A \\rightarrow B \\quad \\Gamma \\vdash N : A}{\\Gamma \\vdash M~N : B}{(\\rightarrow elim)} &\n",
    "\\inferrule{\\Gamma,x:A \\vdash M : B}{\\Gamma \\vdash \\lambda x:A.M : A \\rightarrow B}{(\\rightarrow intro)} \\\\ \\\\\n",
    "\\inferrule{\\Gamma \\vdash M : A \\times B}{\\Gamma \\vdash \\fst{M} : A}{(\\times ~elim1)} &\n",
    "\\inferrule{\\Gamma \\vdash M : A \\times B}{\\Gamma \\vdash \\snd{M} : B}{(\\times ~elim2)} \\\\ \\\\\n",
    "\\end{array}\n",
    "\\\\]\n",
    "\n",
    "\\\\[\n",
    "\\inferrule{\\Gamma \\vdash M : A \\quad \\Gamma \\vdash N : B}{\\Gamma \\vdash \\pair{M}{N} : A \\times B}{(\\times ~intro)}\n",
    "\\\\]"
   ]
  },
  {
   "cell_type": "markdown",
   "metadata": {
    "slideshow": {
     "slide_type": "slide"
    }
   },
   "source": [
    "## Type Checking to Type Inference\n",
    "\n",
    "* STLC rules are presented in a way that you can easily do type checking. \n",
    "* In the standard presentation of type inference algorithm for STLC, you will need\n",
    "  + Type schemes (types with variables in them)\n",
    "  + Unification of type schemes\n",
    "  + Substituion for variables in type schemes.\n",
    "* Luckily Prolog provides all of these\n",
    "  + Type schemes -> Prolog terms with variables, \n",
    "  + Unification -> Prolog unification\n",
    "  + Substitution -> Prolog substitution. "
   ]
  },
  {
   "cell_type": "markdown",
   "metadata": {
    "slideshow": {
     "slide_type": "slide"
    }
   },
   "source": [
    "## My Secret Plan\n",
    "\n",
    "was to teach Prolog was a way to teach you type inference."
   ]
  },
  {
   "cell_type": "markdown",
   "metadata": {
    "slideshow": {
     "slide_type": "fragment"
    }
   },
   "source": [
    "Well, not really :-). But it works out well."
   ]
  },
  {
   "cell_type": "markdown",
   "metadata": {
    "slideshow": {
     "slide_type": "slide"
    }
   },
   "source": [
    "## Remove simple types & add polymorphism\n",
    "\n",
    "* Since we have type schemes (variables in terms), we can infer **polymorphic types**!\n",
    "* Rather than writing $\\lambda x:A.M$, we just write $\\lambda x.M$.\n",
    "  + We will infer the principal (most general) type for $x$.\n",
    "* For fun, we will also integers, booleans, + and < on integers, if-then-else."
   ]
  },
  {
   "cell_type": "markdown",
   "metadata": {
    "slideshow": {
     "slide_type": "slide"
    }
   },
   "source": [
    "## Occurs check\n",
    "\n",
    "We will enable occurs check so that the term $\\lambda x.x~x$ (self-application) will be ill-typed."
   ]
  },
  {
   "cell_type": "code",
   "execution_count": null,
   "metadata": {},
   "outputs": [],
   "source": [
    "?- set_prolog_flag(occurs_check,true)."
   ]
  },
  {
   "cell_type": "markdown",
   "metadata": {
    "slideshow": {
     "slide_type": "slide"
    }
   },
   "source": [
    "## Typing Judgement\n",
    "\n",
    "We model the typing environment $\\Gamma$ as a list of variable and type pairs. \n",
    "\n",
    "We implement the predicate `lookup/2` to lookup the type of a variable in the environment. "
   ]
  },
  {
   "cell_type": "code",
   "execution_count": 1,
   "metadata": {},
   "outputs": [
    {
     "name": "stdout",
     "output_type": "stream",
     "text": [
      "Added 2 clauses(s)."
     ]
    }
   ],
   "source": [
    "lookup([(X,A)|T],X,A).\n",
    "lookup([(Y,_)|T],X,A) :- \\+ X = Y, lookup(T,X,A)."
   ]
  },
  {
   "cell_type": "markdown",
   "metadata": {},
   "source": [
    "Observe that we are using `\\+ X = Y` which holds when `X` does not unify with `Y`."
   ]
  },
  {
   "cell_type": "markdown",
   "metadata": {
    "slideshow": {
     "slide_type": "slide"
    }
   },
   "source": [
    "## Typing rules\n",
    "\n",
    "Next we encode the typing rules as they are specified in the STLC typing rules.\n",
    "\n",
    "\\\\[\n",
    "\\begin{array}{cc}\n",
    "\\inferrule{}{\\Gamma,x:A \\vdash x:A}{(var)} &\n",
    "\\inferrule{}{\\Gamma \\vdash \\unitv : 1}{(unit)} \\\\ \\\\\n",
    "\\inferrule{\\Gamma \\vdash M : A \\rightarrow B \\quad \\Gamma \\vdash N : A}{\\Gamma \\vdash M~N : B}{(\\rightarrow elim)} &\n",
    "\\inferrule{\\Gamma,x:A \\vdash M : B}{\\Gamma \\vdash \\lambda x:A.M : A \\rightarrow B}{(\\rightarrow intro)} \\\\ \\\\\n",
    "\\inferrule{\\Gamma \\vdash M : A \\times B}{\\Gamma \\vdash \\fst{M} : A}{(\\times ~elim1)} &\n",
    "\\inferrule{\\Gamma \\vdash M : A \\times B}{\\Gamma \\vdash \\snd{M} : B}{(\\times ~elim2)}\n",
    "\\end{array}\n",
    "\\\\]\n",
    "\n",
    "\\\\[\n",
    "\\inferrule{\\Gamma \\vdash M : A \\quad \\Gamma \\vdash N : B}{\\Gamma \\vdash \\pair{M}{N} : A \\times B}{(\\times ~intro)}\n",
    "\\\\]"
   ]
  },
  {
   "cell_type": "markdown",
   "metadata": {
    "slideshow": {
     "slide_type": "slide"
    }
   },
   "source": [
    "## Typing rules\n",
    "\n",
    "Next we encode the typing rules as they are specified in the STLC typing rules."
   ]
  },
  {
   "cell_type": "code",
   "execution_count": null,
   "metadata": {},
   "outputs": [],
   "source": [
    "/* unit */     type(G,u,unit).                                          \n",
    "/* -> elim */  type(G,app(M,N),B)           :- type(G,M,A -> B),type(G,N,A). \n",
    "/* -> intro */ type(G,lam(var(X),M),A -> B) :- type([(X,A)|G],M,B).          \n",
    "/* X elim1 */  type(G,fst(M),A)             :- type(G,M,A * B).              \n",
    "/* X elim2 */  type(G,snd(M),B)             :- type(G,M,A * B).              \n",
    "/* X intro */  type(G,pair(M,N),A * B)      :- type(G,M,A), type(G,N,B).     \n",
    "/* var */      type(G,var(X),A)             :- lookup(G,X,A).                "
   ]
  },
  {
   "cell_type": "markdown",
   "metadata": {
    "slideshow": {
     "slide_type": "slide"
    }
   },
   "source": [
    "## Typing rules\n",
    "\n",
    "Add the new typing rules the additional terms and operators. "
   ]
  },
  {
   "cell_type": "code",
   "execution_count": null,
   "metadata": {},
   "outputs": [],
   "source": [
    "type(G, X, int)        :- integer(X).\n",
    "type(G, true, bool).\n",
    "type(G, false, bool).\n",
    "type(G, A + B, int)    :- type(G,A,int), type(G,B,int).\n",
    "type(G, A - B, int)    :- type(G,A,int), type(G,B,int).\n",
    "type(G, A < B, bool)   :- type(G,A,int), type(G,B,int).\n",
    "type(G, ite(A,B,C), T) :- type(G,A,bool), type(G,B,T), type(G,C,T)."
   ]
  },
  {
   "cell_type": "code",
   "execution_count": null,
   "metadata": {},
   "outputs": [],
   "source": [
    "type(Term,Type) :- type([],Term,Type)."
   ]
  },
  {
   "cell_type": "markdown",
   "metadata": {
    "slideshow": {
     "slide_type": "slide"
    }
   },
   "source": [
    "## Type inference\n",
    "\n",
    "Now we can infer the type of programs written in STLC.\n",
    "\n",
    "What is the type of $1+2$?"
   ]
  },
  {
   "cell_type": "code",
   "execution_count": null,
   "metadata": {},
   "outputs": [],
   "source": [
    "?- type(1+2,X)."
   ]
  },
  {
   "cell_type": "markdown",
   "metadata": {},
   "source": [
    "what is the type of $\\lambda x.\\lambda y. \\text{if } x < y \\text{ then } x+y \\text{ else } x-y$?"
   ]
  },
  {
   "cell_type": "code",
   "execution_count": null,
   "metadata": {},
   "outputs": [],
   "source": [
    "?- X = var(x), Y = var(y), type(lam(X,lam(Y,ite(X < Y,X+Y,X-Y))),T)."
   ]
  },
  {
   "cell_type": "markdown",
   "metadata": {},
   "source": [
    "It is `int -> int -> int`."
   ]
  },
  {
   "cell_type": "markdown",
   "metadata": {
    "slideshow": {
     "slide_type": "slide"
    }
   },
   "source": [
    "## Type inference\n",
    "\n",
    "We can also infer polymorphic types.\n",
    "\n",
    "What is the type of $\\lambda x.\\text{fst}(x)+1$?"
   ]
  },
  {
   "cell_type": "code",
   "execution_count": null,
   "metadata": {},
   "outputs": [],
   "source": [
    "?- X = var(x), type(lam(X,fst(X)+1),T)."
   ]
  },
  {
   "cell_type": "markdown",
   "metadata": {},
   "source": [
    "It is `int * 'a -> int`."
   ]
  },
  {
   "cell_type": "markdown",
   "metadata": {
    "slideshow": {
     "slide_type": "slide"
    }
   },
   "source": [
    "## Type inference"
   ]
  },
  {
   "cell_type": "markdown",
   "metadata": {},
   "source": [
    "What is the type of $\\lambda f. \\lambda x.f~x$?"
   ]
  },
  {
   "cell_type": "code",
   "execution_count": null,
   "metadata": {},
   "outputs": [],
   "source": [
    "?- F = var(f), X = var(x), type(lam(F,lam(X,app(F,X))),T)."
   ]
  },
  {
   "cell_type": "markdown",
   "metadata": {},
   "source": [
    "It is `('a -> 'b) -> ('a -> 'b)` or equivalently `('a -> 'b) -> 'a -> 'b`"
   ]
  },
  {
   "cell_type": "markdown",
   "metadata": {
    "slideshow": {
     "slide_type": "slide"
    }
   },
   "source": [
    "## Type Inference\n",
    "\n",
    "* We cannot infer types for every program.\n",
    "  + such programs do not have a valid STLC type.\n",
    "  \n",
    "What is the type of $\\lambda x.x~x$?"
   ]
  },
  {
   "cell_type": "code",
   "execution_count": null,
   "metadata": {},
   "outputs": [],
   "source": [
    "?- X = var(x), type(lam(X,app(X,X)),T)."
   ]
  },
  {
   "cell_type": "markdown",
   "metadata": {},
   "source": [
    "What is the type of `if true then 0 else false`?"
   ]
  },
  {
   "cell_type": "code",
   "execution_count": null,
   "metadata": {},
   "outputs": [],
   "source": [
    "?- type(ite(true,0,false),T)."
   ]
  },
  {
   "cell_type": "markdown",
   "metadata": {
    "slideshow": {
     "slide_type": "slide"
    }
   },
   "source": [
    "## Program synthesis\n",
    "\n",
    "* Program synthesis is generating programs according to a given specification. \n",
    "* Our specifications are types!\n",
    "* Let's generate lambda calculus programs that correspond to a particular type. \n",
    "  + Prolog may star to explore down infinite paths\n",
    "  + programs have no bounded length and Prolog uses DFS.\n",
    "* Let's use the depth of the AST in order to iteratively search starting from depth of 0."
   ]
  },
  {
   "cell_type": "markdown",
   "metadata": {
    "slideshow": {
     "slide_type": "slide"
    }
   },
   "source": [
    "## Bounded predecessor\n",
    "\n",
    "Defines the predecessor for numbers >= 0."
   ]
  },
  {
   "cell_type": "code",
   "execution_count": 2,
   "metadata": {},
   "outputs": [
    {
     "name": "stdout",
     "output_type": "stream",
     "text": [
      "Added 1 clauses(s)."
     ]
    }
   ],
   "source": [
    "pred(N,P) :- N >= 0, P is N - 1."
   ]
  },
  {
   "cell_type": "markdown",
   "metadata": {
    "slideshow": {
     "slide_type": "slide"
    }
   },
   "source": [
    "## Add depth to the type checking rules"
   ]
  },
  {
   "cell_type": "code",
   "execution_count": 3,
   "metadata": {
    "scrolled": true
   },
   "outputs": [
    {
     "name": "stdout",
     "output_type": "stream",
     "text": [
      "Added 7 clauses(s)."
     ]
    }
   ],
   "source": [
    "type(_,u,unit,D) :- \n",
    "  pred(D,_).\n",
    "/* OLD RULE for -> elim ==> type(G,app(M,N),B) :- type(G,M,A -> B),type(G,N,A). */\n",
    "type(G,app(M,N),B,D) :- \n",
    "  pred(D,DD), type(G,M,A -> B,DD),type(G,N,A,DD).             \n",
    "type(G,lam(var(X),M),A -> B, D) :-                                                  \n",
    "  pred(D,DD), type([(X,A)|G],M,B, DD).                                              \n",
    "type(G,fst(M),A,D) :-                                                               \n",
    "  pred(D,DD), type(G,M,A * _,DD).                                                   \n",
    "type(G,snd(M),B,D) :-                                                               \n",
    "  pred(D,DD), type(G,M,_ * B,DD).                                                   \n",
    "type(G,pair(M,N),A * B,D) :-                                                        \n",
    "  pred(D,DD), type(G,M,A,DD), type(G,N,B,DD).                                       \n",
    "type(G,var(X),A,D) :-                                                               \n",
    "  pred(D,_), lookup(G,X,A).                                                         "
   ]
  },
  {
   "cell_type": "markdown",
   "metadata": {
    "slideshow": {
     "slide_type": "slide"
    }
   },
   "source": [
    "## Add depth to the type checking rules."
   ]
  },
  {
   "cell_type": "code",
   "execution_count": 4,
   "metadata": {},
   "outputs": [
    {
     "name": "stdout",
     "output_type": "stream",
     "text": [
      "Added 7 clauses(s)."
     ]
    }
   ],
   "source": [
    "type(_,X,int,D) :-                                                                  \n",
    "  pred(D,_), integer(X).                                                            \n",
    "type(_,D,int,D) :-                                                                  \n",
    "  pred(D,_).                                                                        \n",
    "type(_,true,bool,D) :-                                                              \n",
    "  pred(D,_).                                                                        \n",
    "type(_,false,bool,D) :-                                                             \n",
    "  pred(D,_).                                                                        \n",
    "type(G,A + B,int,D) :-                                                              \n",
    "  pred(D,DD), type(G,A,int,DD), type(G,B,int,DD).                                   \n",
    "type(G,A < B,bool,D) :-                                                             \n",
    "  pred(D,DD), type(G,A,int,DD), type(G,B,int,DD).                                   \n",
    "type(G,ite(A,B,C),T,D) :-                                                           \n",
    "  pred(D,DD), type(G,A,bool,DD), type(G,B,T,DD), type(G,C,T,DD)."
   ]
  },
  {
   "cell_type": "markdown",
   "metadata": {
    "slideshow": {
     "slide_type": "slide"
    }
   },
   "source": [
    "## Generate the depths"
   ]
  },
  {
   "cell_type": "code",
   "execution_count": 5,
   "metadata": {
    "slideshow": {
     "slide_type": "fragment"
    }
   },
   "outputs": [
    {
     "name": "stdout",
     "output_type": "stream",
     "text": [
      "Added 2 clauses(s)."
     ]
    }
   ],
   "source": [
    "gen(S,E,S).\n",
    "gen(S,E,P) :- S < E, S2 is S+1, gen(S2,E,P)."
   ]
  },
  {
   "cell_type": "code",
   "execution_count": null,
   "metadata": {
    "slideshow": {
     "slide_type": "fragment"
    }
   },
   "outputs": [],
   "source": [
    "?- gen(0,5,X)."
   ]
  },
  {
   "cell_type": "code",
   "execution_count": null,
   "metadata": {},
   "outputs": [],
   "source": []
  },
  {
   "cell_type": "markdown",
   "metadata": {
    "slideshow": {
     "slide_type": "slide"
    }
   },
   "source": [
    "## Iteratively search for candidate programs"
   ]
  },
  {
   "cell_type": "code",
   "execution_count": 6,
   "metadata": {},
   "outputs": [
    {
     "name": "stdout",
     "output_type": "stream",
     "text": [
      "Added 1 clauses(s)."
     ]
    }
   ],
   "source": [
    "synthesize(T,P) :-                                                                  \n",
    "  gen(0,10,D), type([],P,T,D)."
   ]
  },
  {
   "cell_type": "markdown",
   "metadata": {
    "slideshow": {
     "slide_type": "slide"
    }
   },
   "source": [
    "## Synthesis\n",
    "\n",
    "Get me those programs whose type is `int`."
   ]
  },
  {
   "cell_type": "code",
   "execution_count": 7,
   "metadata": {
    "scrolled": true
   },
   "outputs": [
    {
     "name": "stdout",
     "output_type": "stream",
     "text": [
      "P = 0 ;\n",
      "P = 1 ;\n",
      "P = +(0, 0) ;\n",
      "P = ite(true, 0, 0) ;\n",
      "P = ite(false, 0, 0) ;\n",
      "P = app(lam(var(_1630), var(_1630)), 1) ;\n",
      "P = app(lam(var(_1630), var(_1630)), +(0, 0)) ;\n",
      "P = app(lam(var(_1630), var(_1630)), ite(true, 0, 0)) ;\n",
      "P = app(lam(var(_1630), var(_1630)), ite(false, 0, 0)) ;\n",
      "P = app(lam(var(_1630), 0), u) ."
     ]
    }
   ],
   "source": [
    "?- synthesize(int,P) {10}."
   ]
  },
  {
   "cell_type": "markdown",
   "metadata": {
    "slideshow": {
     "slide_type": "slide"
    }
   },
   "source": [
    "## Synthesis\n",
    "\n",
    "Let's ask for something more interesting. \n",
    "\n",
    "Get me the program whose type is `A * B -> A`. One answer: $\\lambda p.\\fst{p}$."
   ]
  },
  {
   "cell_type": "code",
   "execution_count": 14,
   "metadata": {
    "scrolled": false
   },
   "outputs": [
    {
     "name": "stdout",
     "output_type": "stream",
     "text": [
      "A = unit, B = _1592, P = lam(var(_1650), u) ."
     ]
    }
   ],
   "source": [
    "?- synthesize((A*B)->A,P){1}."
   ]
  },
  {
   "cell_type": "markdown",
   "metadata": {
    "slideshow": {
     "slide_type": "slide"
    }
   },
   "source": [
    "## Synthesis\n",
    "\n",
    "* Valid but uninteresting. \n",
    "+ Interested in \"Most general program(s)\"; dual of most general type during inference.\n",
    "  - The program that doesn't specialise `A` and `B`. \n",
    "+ In other words, types must remain polymorphic."
   ]
  },
  {
   "cell_type": "markdown",
   "metadata": {
    "slideshow": {
     "slide_type": "slide"
    }
   },
   "source": [
    "## Synthesize\n",
    "\n",
    "Get me the program whose type is `A * B -> A`, where `A` and `B` remain polymorphic, and `A` and `B` do not unify."
   ]
  },
  {
   "cell_type": "code",
   "execution_count": 13,
   "metadata": {},
   "outputs": [
    {
     "name": "stdout",
     "output_type": "stream",
     "text": [
      "A = Variable(247), B = Variable(250), P = lam(var(_1688), fst(var(_1688))) ."
     ]
    }
   ],
   "source": [
    "?- synthesize((A*B)->A,P), var(A), var(B), dif(A,B) {1}."
   ]
  },
  {
   "cell_type": "markdown",
   "metadata": {},
   "source": [
    "That's the program we are looking for: $\\lambda p.\\fst{p}$."
   ]
  },
  {
   "cell_type": "markdown",
   "metadata": {
    "slideshow": {
     "slide_type": "slide"
    }
   },
   "source": [
    "## Synthesize\n",
    "\n",
    "Get me the program whose type is `A*(B*C) -> B`, where `A`,`B`,`C` remain polymorphic, and `A`,`B`,`C` do not unify."
   ]
  },
  {
   "cell_type": "code",
   "execution_count": 15,
   "metadata": {},
   "outputs": [
    {
     "name": "stdout",
     "output_type": "stream",
     "text": [
      "A = Variable(474), B = Variable(477), C = Variable(480), P = app(lam(var(_1766), app(var(_1766), var(_1766))), lam(var(_1832), app(var(_1832), var(_1832)))) ."
     ]
    }
   ],
   "source": [
    "?- synthesize((A*(B*C))->B,P), var(A), var(B), var(C), dif(A,B), dif(B,C), dif(C,A) {1}."
   ]
  },
  {
   "cell_type": "markdown",
   "metadata": {},
   "source": [
    "That's the program we are looking for: $\\lambda p.\\fst({\\snd{p}})$."
   ]
  },
  {
   "cell_type": "markdown",
   "metadata": {
    "slideshow": {
     "slide_type": "slide"
    }
   },
   "source": [
    "<center>\n",
    "\n",
    "<h1> Fin. </h1>\n",
    "</center>"
   ]
  }
 ],
 "metadata": {
  "celltoolbar": "Slideshow",
  "kernelspec": {
   "display_name": "SWI-Prolog",
   "language": "",
   "name": "jswipl"
  },
  "language_info": {
   "mimetype": "text/plain",
   "name": "swipl"
  }
 },
 "nbformat": 4,
 "nbformat_minor": 2
}
