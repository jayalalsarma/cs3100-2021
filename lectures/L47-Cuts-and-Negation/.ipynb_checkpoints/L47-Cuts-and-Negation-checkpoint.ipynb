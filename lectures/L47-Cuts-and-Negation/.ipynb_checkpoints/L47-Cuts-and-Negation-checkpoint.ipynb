{
 "cells": [
  {
   "cell_type": "markdown",
   "metadata": {
    "slideshow": {
     "slide_type": "slide"
    }
   },
   "source": [
    "<center>\n",
    "\n",
    "<h1> CS3100-2021 : Time to say \"Cut\" !</h1>\n",
    "<h2> Lecture 47 : Nov 10, 10am </h2>\n",
    "<h2> Today's Topic : Cut in Prolog</h2>\n",
    "</center>"
   ]
  },
  {
   "cell_type": "markdown",
   "metadata": {
    "slideshow": {
     "slide_type": "slide"
    }
   },
   "source": [
    "## Review\n",
    "\n",
    "### Previously\n",
    "\n",
    "* Generate and Test: A design pattern for logic programming\n",
    "\n",
    "### This lecture\n",
    "\n",
    "* Cuts\n",
    "  + A mechanism for pruning Prolog search trees\n",
    "  + Red and Green cuts"
   ]
  },
  {
   "cell_type": "markdown",
   "metadata": {
    "slideshow": {
     "slide_type": "slide"
    }
   },
   "source": [
    "## Evaluator\n",
    "\n",
    "Consider a simple evaluator for arithmetic expressions."
   ]
  },
  {
   "cell_type": "code",
   "execution_count": 1,
   "metadata": {},
   "outputs": [
    {
     "name": "stdout",
     "output_type": "stream",
     "text": [
      "Added 3 clauses(s)."
     ]
    }
   ],
   "source": [
    "eval(plus(A,B),C) :- eval(A,VA), eval(B,VB), C is VA + VB.\n",
    "eval(mult(A,B),C) :- eval(A,VA), eval(B,VB), C is VA * VB.\n",
    "eval(A,A)."
   ]
  },
  {
   "cell_type": "markdown",
   "metadata": {
    "slideshow": {
     "slide_type": "slide"
    }
   },
   "source": [
    "## Evaluator\n",
    "\n",
    "What is the result of evaluating `1 + (4 * 5)`?"
   ]
  },
  {
   "cell_type": "code",
   "execution_count": 2,
   "metadata": {},
   "outputs": [
    {
     "name": "stdout",
     "output_type": "stream",
     "text": [
      "X = 21 ."
     ]
    }
   ],
   "source": [
    "?- eval(plus(1,mult(4,5)),X) {1}."
   ]
  },
  {
   "cell_type": "code",
   "execution_count": 3,
   "metadata": {},
   "outputs": [
    {
     "ename": "",
     "evalue": "",
     "output_type": "error",
     "traceback": [
      "ERROR: Caused by: '  eval(plus(1,mult(4,5)),X) '. Returned: 'error(type_error(evaluable, /(mult, 2)), context(:(system, /(is, 2)), _1684))'."
     ]
    }
   ],
   "source": [
    "?- eval(plus(1,mult(4,5)),X) {2}."
   ]
  },
  {
   "cell_type": "markdown",
   "metadata": {},
   "source": [
    "`eval(A,A)` unfies with goals such as `eval(mult(4,5),_8733)` :-("
   ]
  },
  {
   "cell_type": "markdown",
   "metadata": {
    "slideshow": {
     "slide_type": "slide"
    }
   },
   "source": [
    "## Fixing the evaluator - with wrapper\n",
    "\n",
    "Wrap the values in a function `value`."
   ]
  },
  {
   "cell_type": "code",
   "execution_count": 4,
   "metadata": {},
   "outputs": [
    {
     "name": "stdout",
     "output_type": "stream",
     "text": [
      "Added 3 clauses(s)."
     ]
    }
   ],
   "source": [
    "eval2(plus(A,B),C) :- eval2(A,VA), eval2(B,VB), C is VA + VB.\n",
    "eval2(mult(A,B),C) :- eval2(A,VA), eval2(B,VB), C is VA * VB.\n",
    "eval2(value(A),A)."
   ]
  },
  {
   "cell_type": "code",
   "execution_count": 5,
   "metadata": {
    "scrolled": true
   },
   "outputs": [
    {
     "name": "stdout",
     "output_type": "stream",
     "text": [
      "X = 21 ."
     ]
    }
   ],
   "source": [
    "?- eval2(plus(value(1),mult(value(4),value(5))),X)."
   ]
  },
  {
   "cell_type": "markdown",
   "metadata": {
    "slideshow": {
     "slide_type": "slide"
    }
   },
   "source": [
    "## Fixing the evaluator - with cut\n",
    "\n",
    "* The **cut** (!) is an extra-logical (outside pure logic) operator that prunes the search trees. \n",
    "* When the evaluation cross a cut, it prunes\n",
    "  + All the subsequent possible branches in the head of the rule.\n",
    "  + All the subsequent possible branches in the preceeding sub-goals in the same rule."
   ]
  },
  {
   "cell_type": "code",
   "execution_count": 6,
   "metadata": {},
   "outputs": [
    {
     "name": "stdout",
     "output_type": "stream",
     "text": [
      "Added 3 clauses(s)."
     ]
    }
   ],
   "source": [
    "eval3(plus(A,B),C) :- !, eval3(A,VA), eval3(B,VB), C is VA + VB.\n",
    "eval3(mult(A,B),C) :- !, eval3(A,VA), eval3(B,VB), C is VA * VB.\n",
    "eval3(A,A)."
   ]
  },
  {
   "cell_type": "code",
   "execution_count": 7,
   "metadata": {},
   "outputs": [
    {
     "name": "stdout",
     "output_type": "stream",
     "text": [
      "X = 21 ."
     ]
    }
   ],
   "source": [
    "?- eval3(plus(1,mult(4,5)),X)."
   ]
  },
  {
   "cell_type": "markdown",
   "metadata": {
    "slideshow": {
     "slide_type": "slide"
    }
   },
   "source": [
    "## Cut behaviour"
   ]
  },
  {
   "cell_type": "code",
   "execution_count": 8,
   "metadata": {},
   "outputs": [
    {
     "name": "stdout",
     "output_type": "stream",
     "text": [
      "Added 5 clauses(s)."
     ]
    }
   ],
   "source": [
    "p(a).\n",
    "p(b).\n",
    "r(c).\n",
    "q(X) :- p(X), !.\n",
    "q(X) :- r(X)."
   ]
  },
  {
   "cell_type": "code",
   "execution_count": 9,
   "metadata": {},
   "outputs": [
    {
     "name": "stdout",
     "output_type": "stream",
     "text": [
      "X = a ."
     ]
    }
   ],
   "source": [
    "?- q(X)."
   ]
  },
  {
   "cell_type": "markdown",
   "metadata": {
    "slideshow": {
     "slide_type": "slide"
    }
   },
   "source": [
    "## Cut behaviour"
   ]
  },
  {
   "cell_type": "code",
   "execution_count": 10,
   "metadata": {},
   "outputs": [
    {
     "name": "stdout",
     "output_type": "stream",
     "text": [
      "Added 5 clauses(s)."
     ]
    }
   ],
   "source": [
    "p2(a).\n",
    "p2(b).\n",
    "r2(c).\n",
    "q2(X) :- !, p2(X).\n",
    "q2(X) :- r2(X)."
   ]
  },
  {
   "cell_type": "code",
   "execution_count": 11,
   "metadata": {},
   "outputs": [
    {
     "name": "stdout",
     "output_type": "stream",
     "text": [
      "X = a ;\n",
      "X = b ."
     ]
    }
   ],
   "source": [
    "?- q2(X)."
   ]
  },
  {
   "cell_type": "markdown",
   "metadata": {
    "slideshow": {
     "slide_type": "slide"
    }
   },
   "source": [
    "## Quiz\n",
    "\n",
    "```prolog\n",
    "split([],[],[]).\n",
    "split([H|T],[H|L],R) :- H < 5, split(T,L,R).\n",
    "split([H|T],L,[H|R]) :- H >= 5, split(T,L,R).\n",
    "```\n",
    "\n",
    "What is the result of `?- split([1,3,5,7,9],L,R)`?\n",
    "\n",
    "    1. L=[1,3], R=[5,7,9]\n",
    "    2. L=[1,3,5], R=[7,9]\n",
    "    3. false\n",
    "    4. L=[1,3], R=[7,9]"
   ]
  },
  {
   "cell_type": "markdown",
   "metadata": {
    "slideshow": {
     "slide_type": "slide"
    }
   },
   "source": [
    "## Quiz\n",
    "\n",
    "```prolog\n",
    "split([],[],[]).\n",
    "split([H|T],[H|L],R) :- H < 5, split(T,L,R).\n",
    "split([H|T],L,[H|R]) :- H >= 5, split(T,L,R).\n",
    "```\n",
    "\n",
    "What is the result of `?- split([1,3,5,7,9],L,R)`?\n",
    "\n",
    "    1. L=[1,3], R=[5,7,9] ✔️\n",
    "    2. L=[1,3,5], R=[7,9]\n",
    "    3. false\n",
    "    4. L=[1,3], R=[7,9]"
   ]
  },
  {
   "cell_type": "markdown",
   "metadata": {
    "slideshow": {
     "slide_type": "slide"
    }
   },
   "source": [
    "## Split"
   ]
  },
  {
   "cell_type": "code",
   "execution_count": 12,
   "metadata": {},
   "outputs": [
    {
     "name": "stdout",
     "output_type": "stream",
     "text": [
      "Added 3 clauses(s)."
     ]
    }
   ],
   "source": [
    "split([],[],[]).\n",
    "split([H|T],[H|L],R) :- H < 5, split(T,L,R).\n",
    "split([H|T],L,[H|R]) :- H >= 5, split(T,L,R)."
   ]
  },
  {
   "cell_type": "code",
   "execution_count": 13,
   "metadata": {},
   "outputs": [
    {
     "name": "stdout",
     "output_type": "stream",
     "text": [
      "L = [ 1, 2, 3, 4 ], R = [ 5, 6, 7, 8, 9 ] ."
     ]
    }
   ],
   "source": [
    "?- split([1,2,3,4,5,6,7,8,9],L,R)."
   ]
  },
  {
   "cell_type": "markdown",
   "metadata": {},
   "source": [
    "* Observe that the last two cases are mutually exclusive. \n",
    "  + But Prolog still searches through the third rule, if second rule was successfully matched."
   ]
  },
  {
   "cell_type": "markdown",
   "metadata": {
    "slideshow": {
     "slide_type": "slide"
    }
   },
   "source": [
    "## Split with cut"
   ]
  },
  {
   "cell_type": "code",
   "execution_count": 14,
   "metadata": {},
   "outputs": [
    {
     "name": "stdout",
     "output_type": "stream",
     "text": [
      "Added 2 clauses(s)."
     ]
    }
   ],
   "source": [
    "split([],[],[]).\n",
    "split([H|T],[H|L],R) :- H < 5, !, split(T,L,R).\n",
    "split([H|T],L,[H|R]) :- H >= 5, !, split(T,L,R)."
   ]
  },
  {
   "cell_type": "code",
   "execution_count": 15,
   "metadata": {},
   "outputs": [
    {
     "name": "stdout",
     "output_type": "stream",
     "text": [
      "L = [ 1, 2, 3, 4 ], R = [ 5, 6, 7, 8, 9 ] ;\n",
      "L = [ 1, 2, 3, 4 ], R = [ 5, 6, 7, 8, 9 ] ;\n",
      "L = [ 1, 2, 3, 4 ], R = [ 5, 6, 7, 8, 9 ] ;\n",
      "L = [ 1, 2, 3, 4 ], R = [ 5, 6, 7, 8, 9 ] ;\n",
      "L = [ 1, 2, 3, 4 ], R = [ 5, 6, 7, 8, 9 ] ;\n",
      "L = [ 1, 2, 3, 4 ], R = [ 5, 6, 7, 8, 9 ] ;\n",
      "L = [ 1, 2, 3, 4 ], R = [ 5, 6, 7, 8, 9 ] ;\n",
      "L = [ 1, 2, 3, 4 ], R = [ 5, 6, 7, 8, 9 ] ;\n",
      "L = [ 1, 2, 3, 4 ], R = [ 5, 6, 7, 8, 9 ] ;\n",
      "L = [ 1, 2, 3, 4 ], R = [ 5, 6, 7, 8, 9 ] ."
     ]
    }
   ],
   "source": [
    "?- split([1,2,3,4,5,6,7,8,9],L,R)."
   ]
  },
  {
   "cell_type": "markdown",
   "metadata": {},
   "source": [
    "* The second `!` is unnecessary as there are no further choices.\n",
    "  + In fact, the predicate `H >= 5` is unnecessary since the only way to end up here is if the first rule failed.\n",
    "  + But better to leave it there for readability.\n",
    "* Recommendation:\n",
    "  + Use cut to optimise execution, but retain predicates which help readability. "
   ]
  },
  {
   "cell_type": "markdown",
   "metadata": {
    "slideshow": {
     "slide_type": "slide"
    }
   },
   "source": [
    "## Quiz\n",
    "\n",
    "What is the logical meaning of these clauses?\n",
    "\n",
    "```prolog\n",
    "p :- a,b.\n",
    "p :- c.\n",
    "```\n",
    "\n",
    "1. $p \\leftarrow (a \\wedge b) \\vee c$.\n",
    "2. $p \\leftarrow a \\wedge b \\wedge c$.\n",
    "3. $p \\leftarrow (a \\wedge b) \\vee (\\neg a \\wedge c)$.\n",
    "4. $p \\leftarrow a \\wedge (b \\vee c)$."
   ]
  },
  {
   "cell_type": "markdown",
   "metadata": {
    "slideshow": {
     "slide_type": "slide"
    }
   },
   "source": [
    "## Quiz\n",
    "\n",
    "What is the logical meaning of these clauses?\n",
    "\n",
    "```prolog\n",
    "p :- a,b.\n",
    "p :- c.\n",
    "```\n",
    "\n",
    "1. $p \\leftarrow (a \\wedge b) \\vee c$. **✓**\n",
    "2. $p \\leftarrow a \\wedge b \\wedge c$.\n",
    "3. $p \\leftarrow (a \\wedge b) \\vee (\\neg a \\wedge c)$.\n",
    "4. $p \\leftarrow a \\wedge (b \\vee c)$."
   ]
  },
  {
   "cell_type": "markdown",
   "metadata": {
    "slideshow": {
     "slide_type": "slide"
    }
   },
   "source": [
    "## Quiz\n",
    "\n",
    "What is the logical meaning of these clauses?\n",
    "\n",
    "```prolog\n",
    "p :- a,!,b.\n",
    "p :- c.\n",
    "```\n",
    "\n",
    "1. $p \\leftarrow (a \\wedge b) \\vee c$.\n",
    "2. $p \\leftarrow a \\wedge b \\wedge c$.\n",
    "3. $p \\leftarrow (a \\wedge b) \\vee (\\neg a \\wedge c)$.\n",
    "4. $p \\leftarrow a \\wedge (b \\vee c)$."
   ]
  },
  {
   "cell_type": "markdown",
   "metadata": {
    "slideshow": {
     "slide_type": "slide"
    }
   },
   "source": [
    "## Quiz\n",
    "\n",
    "What is the logical meaning of these clauses?\n",
    "\n",
    "```prolog\n",
    "p :- a,!,b.\n",
    "p :- c.\n",
    "```\n",
    "\n",
    "1. $p \\leftarrow (a \\wedge b) \\vee c$.\n",
    "2. $p \\leftarrow a \\wedge b \\wedge c$.\n",
    "3. $p \\leftarrow (a \\wedge b) \\vee (\\neg a \\wedge c)$.  **✓**\n",
    "4. $p \\leftarrow a \\wedge (b \\vee c)$."
   ]
  },
  {
   "cell_type": "markdown",
   "metadata": {
    "slideshow": {
     "slide_type": "slide"
    }
   },
   "source": [
    "## Red and Green cuts\n",
    "\n",
    "```prolog\n",
    "p :- a,!,b.\n",
    "p :- c.\n",
    "```\n",
    "\n",
    "Since the cut above changes the logical meaning of the program, it is known as **Red cut**.\n",
    "\n",
    "```prolog\n",
    "split([],[],[]).\n",
    "split([H|T],[H|L],R) :- H < 5, !, split(T,L,R).\n",
    "split([H|T],L,[H|R]) :- H >= 5, split(T,L,R).\n",
    "```\n",
    "\n",
    "The cut in split does not change the logical meaning of the program. Hence, it is called **Green cut**."
   ]
  },
  {
   "cell_type": "markdown",
   "metadata": {
    "slideshow": {
     "slide_type": "slide"
    }
   },
   "source": [
    "## Remove Stutter"
   ]
  },
  {
   "cell_type": "code",
   "execution_count": 16,
   "metadata": {},
   "outputs": [
    {
     "name": "stdout",
     "output_type": "stream",
     "text": [
      "Added 4 clauses(s)."
     ]
    }
   ],
   "source": [
    "remove_stutter([],[]). \n",
    "remove_stutter([H],[H]).\n",
    "remove_stutter([H,H|T],L) :- !, remove_stutter([H|T],L).\n",
    "remove_stutter([X,Y|T],[X|L]) :- remove_stutter([Y|T],L)."
   ]
  },
  {
   "cell_type": "code",
   "execution_count": 17,
   "metadata": {},
   "outputs": [
    {
     "name": "stdout",
     "output_type": "stream",
     "text": [
      "X = [ 1, 2, 3, 4, 1 ] ."
     ]
    }
   ],
   "source": [
    "?- remove_stutter([1,1,2,2,2,3,4,1,1],X)."
   ]
  },
  {
   "cell_type": "markdown",
   "metadata": {
    "slideshow": {
     "slide_type": "slide"
    }
   },
   "source": [
    "## Remove Stutter\n",
    "\n",
    "Can be equivalently written as:"
   ]
  },
  {
   "cell_type": "code",
   "execution_count": 18,
   "metadata": {},
   "outputs": [
    {
     "name": "stdout",
     "output_type": "stream",
     "text": [
      "Added 4 clauses(s)."
     ]
    }
   ],
   "source": [
    "remove_stutter2([],[]).\n",
    "remove_stutter2([H],[H]).\n",
    "remove_stutter2([H,H|T],L) :- remove_stutter2([H|T],L).\n",
    "remove_stutter2([X,Y|T],[X|L]) :- not(X=Y), remove_stutter2([Y|T],L)."
   ]
  },
  {
   "cell_type": "code",
   "execution_count": 19,
   "metadata": {},
   "outputs": [
    {
     "name": "stdout",
     "output_type": "stream",
     "text": [
      "X = [ 1, 2, 3, 4, 1 ] ."
     ]
    }
   ],
   "source": [
    "?- remove_stutter2([1,1,2,2,2,3,4,1,1],X)."
   ]
  }
 ],
 "metadata": {
  "celltoolbar": "Slideshow",
  "kernelspec": {
   "display_name": "SWI-Prolog",
   "language": "",
   "name": "jswipl"
  },
  "language_info": {
   "mimetype": "text/plain",
   "name": "swipl"
  }
 },
 "nbformat": 4,
 "nbformat_minor": 2
}
